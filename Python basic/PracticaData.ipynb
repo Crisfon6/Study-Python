{
  "nbformat": 4,
  "nbformat_minor": 0,
  "metadata": {
    "colab": {
      "name": "PracticaData",
      "provenance": [],
      "collapsed_sections": []
    },
    "kernelspec": {
      "name": "python3",
      "display_name": "Python 3"
    }
  },
  "cells": [
    {
      "cell_type": "code",
      "metadata": {
        "id": "QMSl8GcfrU8R",
        "colab_type": "code",
        "colab": {}
      },
      "source": [
        "import pandas as pd"
      ],
      "execution_count": 0,
      "outputs": []
    },
    {
      "cell_type": "code",
      "metadata": {
        "id": "2u7mCJ4nrYVk",
        "colab_type": "code",
        "colab": {}
      },
      "source": [
        "%matplotlib inline\n",
        "from copy import deepcopy\n",
        "import numpy as np\n",
        "import pandas as pd\n",
        "from matplotlib import pyplot as plt\n",
        "plt.rcParams['figure.figsize'] = (16, 9)\n",
        "plt.style.use('ggplot')"
      ],
      "execution_count": 0,
      "outputs": []
    },
    {
      "cell_type": "code",
      "metadata": {
        "id": "qc2Xw6obsAWh",
        "colab_type": "code",
        "colab": {
          "base_uri": "https://localhost:8080/",
          "height": 204
        },
        "outputId": "10e3dff6-aaa3-4520-9fcd-8c2eb55bca22"
      },
      "source": [
        "!wget -O  data.csv https://www.datos.gov.co/api/views/75fz-q98y/rows.csv?accessType=DOWNLOAD&bom=true&format=true"
      ],
      "execution_count": 3,
      "outputs": [
        {
          "output_type": "stream",
          "text": [
            "--2020-02-27 22:06:53--  https://www.datos.gov.co/api/views/75fz-q98y/rows.csv?accessType=DOWNLOAD\n",
            "Resolving www.datos.gov.co (www.datos.gov.co)... 52.206.140.205\n",
            "Connecting to www.datos.gov.co (www.datos.gov.co)|52.206.140.205|:443... connected.\n",
            "HTTP request sent, awaiting response... 200 OK\n",
            "Length: unspecified [text/csv]\n",
            "Saving to: ‘data.csv’\n",
            "\n",
            "data.csv                [                <=> ]  26.99M  8.15MB/s    in 3.3s    \n",
            "\n",
            "2020-02-27 22:06:57 (8.15 MB/s) - ‘data.csv’ saved [28302653]\n",
            "\n"
          ],
          "name": "stdout"
        }
      ]
    },
    {
      "cell_type": "code",
      "metadata": {
        "id": "XAQsW-LGsC6G",
        "colab_type": "code",
        "colab": {
          "base_uri": "https://localhost:8080/",
          "height": 71
        },
        "outputId": "648ad962-707f-4bd2-b2c3-f947c1a8b48d"
      },
      "source": [
        "df = pd.read_csv('data.csv')"
      ],
      "execution_count": 4,
      "outputs": [
        {
          "output_type": "stream",
          "text": [
            "/usr/local/lib/python3.6/dist-packages/IPython/core/interactiveshell.py:2718: DtypeWarning: Columns (3,4) have mixed types. Specify dtype option on import or set low_memory=False.\n",
            "  interactivity=interactivity, compiler=compiler, result=result)\n"
          ],
          "name": "stderr"
        }
      ]
    },
    {
      "cell_type": "code",
      "metadata": {
        "id": "BWs4jEtNsH-n",
        "colab_type": "code",
        "colab": {
          "base_uri": "https://localhost:8080/",
          "height": 326
        },
        "outputId": "3f4d477d-0ebd-4111-c107-068d47d2ecca"
      },
      "source": [
        "df.head()"
      ],
      "execution_count": 5,
      "outputs": [
        {
          "output_type": "execute_result",
          "data": {
            "text/html": [
              "<div>\n",
              "<style scoped>\n",
              "    .dataframe tbody tr th:only-of-type {\n",
              "        vertical-align: middle;\n",
              "    }\n",
              "\n",
              "    .dataframe tbody tr th {\n",
              "        vertical-align: top;\n",
              "    }\n",
              "\n",
              "    .dataframe thead th {\n",
              "        text-align: right;\n",
              "    }\n",
              "</style>\n",
              "<table border=\"1\" class=\"dataframe\">\n",
              "  <thead>\n",
              "    <tr style=\"text-align: right;\">\n",
              "      <th></th>\n",
              "      <th>ORDEN</th>\n",
              "      <th>ARMAS_MEDIOS</th>\n",
              "      <th>BARRIOS_HECHO</th>\n",
              "      <th>LATITUD</th>\n",
              "      <th>LONGITUD</th>\n",
              "      <th>ZONA</th>\n",
              "      <th>NOM_COMUNA</th>\n",
              "      <th>AÑO</th>\n",
              "      <th>MES</th>\n",
              "      <th>DIA</th>\n",
              "      <th>DIA_SEMANA</th>\n",
              "      <th>FECHA_HECHO</th>\n",
              "      <th>DESCRIPCION_CONDUCTA</th>\n",
              "      <th>CONDUCTA</th>\n",
              "      <th>CLASIFICACIONES DELITO</th>\n",
              "      <th>EDAD</th>\n",
              "      <th>CURSO_DE_VIDA</th>\n",
              "      <th>ESTADO_CIVIL_PERSONA</th>\n",
              "      <th>GENERO</th>\n",
              "      <th>MOVIL_AGRESOR</th>\n",
              "      <th>MOVIL_VICTIMA</th>\n",
              "    </tr>\n",
              "  </thead>\n",
              "  <tbody>\n",
              "    <tr>\n",
              "      <th>0</th>\n",
              "      <td>1</td>\n",
              "      <td>ARMA BLANCA / CORTOPUNZANTE</td>\n",
              "      <td>BUENOS AIRES</td>\n",
              "      <td>7.17056</td>\n",
              "      <td>-73.1351</td>\n",
              "      <td>URBANA</td>\n",
              "      <td>14. Morrorico</td>\n",
              "      <td>2010</td>\n",
              "      <td>2010</td>\n",
              "      <td>01. enero</td>\n",
              "      <td>1.0</td>\n",
              "      <td>viernes</td>\n",
              "      <td>ARTÍCULO 111. LESIONES PERSONALES</td>\n",
              "      <td>LESIONES PERSONALES</td>\n",
              "      <td>Lesiones no fatales</td>\n",
              "      <td>30</td>\n",
              "      <td>05. Adultez</td>\n",
              "      <td>UNION LIBRE</td>\n",
              "      <td>MASCULINO</td>\n",
              "      <td>A PIE</td>\n",
              "      <td>A PIE</td>\n",
              "    </tr>\n",
              "    <tr>\n",
              "      <th>1</th>\n",
              "      <td>2</td>\n",
              "      <td>ARMA BLANCA / CORTOPUNZANTE</td>\n",
              "      <td>CAMPO HERMOSO</td>\n",
              "      <td>7.12065</td>\n",
              "      <td>-73.1261</td>\n",
              "      <td>URBANA</td>\n",
              "      <td>05. García Rovira</td>\n",
              "      <td>2010</td>\n",
              "      <td>2010</td>\n",
              "      <td>01. enero</td>\n",
              "      <td>1.0</td>\n",
              "      <td>viernes</td>\n",
              "      <td>ARTÍCULO 111. LESIONES PERSONALES</td>\n",
              "      <td>LESIONES PERSONALES</td>\n",
              "      <td>Lesiones no fatales</td>\n",
              "      <td>21</td>\n",
              "      <td>04. Jovenes</td>\n",
              "      <td>SOLTERO</td>\n",
              "      <td>MASCULINO</td>\n",
              "      <td>A PIE</td>\n",
              "      <td>A PIE</td>\n",
              "    </tr>\n",
              "    <tr>\n",
              "      <th>2</th>\n",
              "      <td>3</td>\n",
              "      <td>ARMA BLANCA / CORTOPUNZANTE</td>\n",
              "      <td>CAMPO HERMOSO</td>\n",
              "      <td>7.12065</td>\n",
              "      <td>-73.1261</td>\n",
              "      <td>URBANA</td>\n",
              "      <td>05. García Rovira</td>\n",
              "      <td>2010</td>\n",
              "      <td>2010</td>\n",
              "      <td>01. enero</td>\n",
              "      <td>1.0</td>\n",
              "      <td>viernes</td>\n",
              "      <td>ARTÍCULO 111. LESIONES PERSONALES</td>\n",
              "      <td>LESIONES PERSONALES</td>\n",
              "      <td>Lesiones no fatales</td>\n",
              "      <td>23</td>\n",
              "      <td>04. Jovenes</td>\n",
              "      <td>SOLTERO</td>\n",
              "      <td>MASCULINO</td>\n",
              "      <td>A PIE</td>\n",
              "      <td>A PIE</td>\n",
              "    </tr>\n",
              "    <tr>\n",
              "      <th>3</th>\n",
              "      <td>4</td>\n",
              "      <td>ARMA BLANCA / CORTOPUNZANTE</td>\n",
              "      <td>COMUNEROS</td>\n",
              "      <td>7.15136</td>\n",
              "      <td>-73.1457</td>\n",
              "      <td>URBANA</td>\n",
              "      <td>03. San Francisco</td>\n",
              "      <td>2010</td>\n",
              "      <td>2010</td>\n",
              "      <td>01. enero</td>\n",
              "      <td>1.0</td>\n",
              "      <td>viernes</td>\n",
              "      <td>ARTÍCULO 111. LESIONES PERSONALES</td>\n",
              "      <td>LESIONES PERSONALES</td>\n",
              "      <td>Lesiones no fatales</td>\n",
              "      <td>36</td>\n",
              "      <td>05. Adultez</td>\n",
              "      <td>CASADO</td>\n",
              "      <td>MASCULINO</td>\n",
              "      <td>A PIE</td>\n",
              "      <td>A PIE</td>\n",
              "    </tr>\n",
              "    <tr>\n",
              "      <th>4</th>\n",
              "      <td>5</td>\n",
              "      <td>ARMA BLANCA / CORTOPUNZANTE</td>\n",
              "      <td>GIRARDOT</td>\n",
              "      <td>7.17056</td>\n",
              "      <td>-73.1351</td>\n",
              "      <td>URBANA</td>\n",
              "      <td>04. Occidental</td>\n",
              "      <td>2010</td>\n",
              "      <td>2010</td>\n",
              "      <td>01. enero</td>\n",
              "      <td>1.0</td>\n",
              "      <td>viernes</td>\n",
              "      <td>ARTÍCULO 111. LESIONES PERSONALES</td>\n",
              "      <td>LESIONES PERSONALES</td>\n",
              "      <td>Lesiones no fatales</td>\n",
              "      <td>20</td>\n",
              "      <td>04. Jovenes</td>\n",
              "      <td>UNION LIBRE</td>\n",
              "      <td>MASCULINO</td>\n",
              "      <td>A PIE</td>\n",
              "      <td>A PIE</td>\n",
              "    </tr>\n",
              "  </tbody>\n",
              "</table>\n",
              "</div>"
            ],
            "text/plain": [
              "   ORDEN                 ARMAS_MEDIOS  ... MOVIL_AGRESOR MOVIL_VICTIMA\n",
              "0      1  ARMA BLANCA / CORTOPUNZANTE  ...         A PIE         A PIE\n",
              "1      2  ARMA BLANCA / CORTOPUNZANTE  ...         A PIE         A PIE\n",
              "2      3  ARMA BLANCA / CORTOPUNZANTE  ...         A PIE         A PIE\n",
              "3      4  ARMA BLANCA / CORTOPUNZANTE  ...         A PIE         A PIE\n",
              "4      5  ARMA BLANCA / CORTOPUNZANTE  ...         A PIE         A PIE\n",
              "\n",
              "[5 rows x 21 columns]"
            ]
          },
          "metadata": {
            "tags": []
          },
          "execution_count": 5
        }
      ]
    },
    {
      "cell_type": "code",
      "metadata": {
        "id": "DH38vh5PsKTh",
        "colab_type": "code",
        "colab": {
          "base_uri": "https://localhost:8080/",
          "height": 297
        },
        "outputId": "dbab675d-5bc1-4dfc-edc5-2e8a2adcc3b5"
      },
      "source": [
        "df.describe()"
      ],
      "execution_count": 6,
      "outputs": [
        {
          "output_type": "execute_result",
          "data": {
            "text/html": [
              "<div>\n",
              "<style scoped>\n",
              "    .dataframe tbody tr th:only-of-type {\n",
              "        vertical-align: middle;\n",
              "    }\n",
              "\n",
              "    .dataframe tbody tr th {\n",
              "        vertical-align: top;\n",
              "    }\n",
              "\n",
              "    .dataframe thead th {\n",
              "        text-align: right;\n",
              "    }\n",
              "</style>\n",
              "<table border=\"1\" class=\"dataframe\">\n",
              "  <thead>\n",
              "    <tr style=\"text-align: right;\">\n",
              "      <th></th>\n",
              "      <th>ORDEN</th>\n",
              "      <th>AÑO</th>\n",
              "      <th>MES</th>\n",
              "      <th>DIA_SEMANA</th>\n",
              "    </tr>\n",
              "  </thead>\n",
              "  <tbody>\n",
              "    <tr>\n",
              "      <th>count</th>\n",
              "      <td>111833.000000</td>\n",
              "      <td>111833.000000</td>\n",
              "      <td>111833.000000</td>\n",
              "      <td>111833.000000</td>\n",
              "    </tr>\n",
              "    <tr>\n",
              "      <th>mean</th>\n",
              "      <td>55917.000000</td>\n",
              "      <td>2014.748706</td>\n",
              "      <td>2014.748706</td>\n",
              "      <td>15.482317</td>\n",
              "    </tr>\n",
              "    <tr>\n",
              "      <th>std</th>\n",
              "      <td>32283.550664</td>\n",
              "      <td>2.808743</td>\n",
              "      <td>2.808743</td>\n",
              "      <td>8.827308</td>\n",
              "    </tr>\n",
              "    <tr>\n",
              "      <th>min</th>\n",
              "      <td>1.000000</td>\n",
              "      <td>2010.000000</td>\n",
              "      <td>2010.000000</td>\n",
              "      <td>1.000000</td>\n",
              "    </tr>\n",
              "    <tr>\n",
              "      <th>25%</th>\n",
              "      <td>27959.000000</td>\n",
              "      <td>2012.000000</td>\n",
              "      <td>2012.000000</td>\n",
              "      <td>8.000000</td>\n",
              "    </tr>\n",
              "    <tr>\n",
              "      <th>50%</th>\n",
              "      <td>55917.000000</td>\n",
              "      <td>2015.000000</td>\n",
              "      <td>2015.000000</td>\n",
              "      <td>15.000000</td>\n",
              "    </tr>\n",
              "    <tr>\n",
              "      <th>75%</th>\n",
              "      <td>83875.000000</td>\n",
              "      <td>2017.000000</td>\n",
              "      <td>2017.000000</td>\n",
              "      <td>23.000000</td>\n",
              "    </tr>\n",
              "    <tr>\n",
              "      <th>max</th>\n",
              "      <td>111833.000000</td>\n",
              "      <td>2019.000000</td>\n",
              "      <td>2019.000000</td>\n",
              "      <td>31.000000</td>\n",
              "    </tr>\n",
              "  </tbody>\n",
              "</table>\n",
              "</div>"
            ],
            "text/plain": [
              "               ORDEN            AÑO            MES     DIA_SEMANA\n",
              "count  111833.000000  111833.000000  111833.000000  111833.000000\n",
              "mean    55917.000000    2014.748706    2014.748706      15.482317\n",
              "std     32283.550664       2.808743       2.808743       8.827308\n",
              "min         1.000000    2010.000000    2010.000000       1.000000\n",
              "25%     27959.000000    2012.000000    2012.000000       8.000000\n",
              "50%     55917.000000    2015.000000    2015.000000      15.000000\n",
              "75%     83875.000000    2017.000000    2017.000000      23.000000\n",
              "max    111833.000000    2019.000000    2019.000000      31.000000"
            ]
          },
          "metadata": {
            "tags": []
          },
          "execution_count": 6
        }
      ]
    },
    {
      "cell_type": "markdown",
      "metadata": {
        "id": "Y017l8ju8t5T",
        "colab_type": "text"
      },
      "source": [
        "Podemos mirar cuantas categorias tiene la categoria CONDUCTA : **EL NUMERO DE CONDUCTAS SON 50**\n",
        " \n",
        "\n"
      ]
    },
    {
      "cell_type": "code",
      "metadata": {
        "id": "h7kIhOFcsMZx",
        "colab_type": "code",
        "colab": {}
      },
      "source": [
        "df_n = df['CONDUCTA']\n",
        "np_df = np.array(df['CONDUCTA'].unique())\n",
        "\n",
        "len(np_df)\n",
        "np_df\n",
        "np_count= np.unique(df_n,return_counts=True)\n",
        "\n"
      ],
      "execution_count": 0,
      "outputs": []
    },
    {
      "cell_type": "code",
      "metadata": {
        "id": "3deFIvb5TGJ9",
        "colab_type": "code",
        "colab": {
          "base_uri": "https://localhost:8080/",
          "height": 119
        },
        "outputId": "df4e960c-0b9c-442a-8592-6807b92796f0"
      },
      "source": [
        "np_count[1]"
      ],
      "execution_count": 113,
      "outputs": [
        {
          "output_type": "execute_result",
          "data": {
            "text/plain": [
              "array([  750,    17,   189,    67,   110,    13,   425,     5,   163,\n",
              "         335,     3,  1415,    15,     6,   286,     4,    10,   376,\n",
              "          11,   902,   491,    80,    25,    10,   809,   157,   467,\n",
              "        5702,   524,     9,   145,  6498,    15,  2291, 30216,     7,\n",
              "        3317,     1,    31,     4,    27, 19364,   553, 20380,    57,\n",
              "           5,     3,     3,    54, 15486])"
            ]
          },
          "metadata": {
            "tags": []
          },
          "execution_count": 113
        }
      ]
    },
    {
      "cell_type": "markdown",
      "metadata": {
        "id": "WaEYGm_kErVC",
        "colab_type": "text"
      },
      "source": [
        "El numero de veces que se repite la conducta"
      ]
    },
    {
      "cell_type": "code",
      "metadata": {
        "id": "ZXYvz4BSEbWq",
        "colab_type": "code",
        "colab": {
          "base_uri": "https://localhost:8080/",
          "height": 1000
        },
        "outputId": "caa00f75-5f49-4841-9192-35b71166ff57"
      },
      "source": [
        "\n",
        "n_delitos = pd.DataFrame({'conducta':np_count[0],'contador':np_count[1]})\n",
        "n_delitos\n",
        "\n"
      ],
      "execution_count": 114,
      "outputs": [
        {
          "output_type": "execute_result",
          "data": {
            "text/html": [
              "<div>\n",
              "<style scoped>\n",
              "    .dataframe tbody tr th:only-of-type {\n",
              "        vertical-align: middle;\n",
              "    }\n",
              "\n",
              "    .dataframe tbody tr th {\n",
              "        vertical-align: top;\n",
              "    }\n",
              "\n",
              "    .dataframe thead th {\n",
              "        text-align: right;\n",
              "    }\n",
              "</style>\n",
              "<table border=\"1\" class=\"dataframe\">\n",
              "  <thead>\n",
              "    <tr style=\"text-align: right;\">\n",
              "      <th></th>\n",
              "      <th>conducta</th>\n",
              "      <th>contador</th>\n",
              "    </tr>\n",
              "  </thead>\n",
              "  <tbody>\n",
              "    <tr>\n",
              "      <th>0</th>\n",
              "      <td>ACCESO CARNAL ABUSIVO CON MENOR DE 14 AÑOS</td>\n",
              "      <td>750</td>\n",
              "    </tr>\n",
              "    <tr>\n",
              "      <th>1</th>\n",
              "      <td>ACCESO CARNAL ABUSIVO CON MENOR DE 14 AÑOS (CI...</td>\n",
              "      <td>17</td>\n",
              "    </tr>\n",
              "    <tr>\n",
              "      <th>2</th>\n",
              "      <td>ACCESO CARNAL O ACTO SEXUAL ABUSIVO CON INCAPA...</td>\n",
              "      <td>189</td>\n",
              "    </tr>\n",
              "    <tr>\n",
              "      <th>3</th>\n",
              "      <td>ACCESO CARNAL O ACTO SEXUAL ABUSIVO CON INCAPA...</td>\n",
              "      <td>67</td>\n",
              "    </tr>\n",
              "    <tr>\n",
              "      <th>4</th>\n",
              "      <td>ACCESO CARNAL O ACTO SEXUAL EN PERSONA PUESTA ...</td>\n",
              "      <td>110</td>\n",
              "    </tr>\n",
              "    <tr>\n",
              "      <th>5</th>\n",
              "      <td>ACCESO CARNAL O ACTO SEXUAL EN PERSONA PUESTA ...</td>\n",
              "      <td>13</td>\n",
              "    </tr>\n",
              "    <tr>\n",
              "      <th>6</th>\n",
              "      <td>ACCESO CARNAL VIOLENTO</td>\n",
              "      <td>425</td>\n",
              "    </tr>\n",
              "    <tr>\n",
              "      <th>7</th>\n",
              "      <td>ACCESO CARNAL VIOLENTO (CIRCUNSTANCIAS AGRAVAC...</td>\n",
              "      <td>5</td>\n",
              "    </tr>\n",
              "    <tr>\n",
              "      <th>8</th>\n",
              "      <td>ACOSO SEXUAL</td>\n",
              "      <td>163</td>\n",
              "    </tr>\n",
              "    <tr>\n",
              "      <th>9</th>\n",
              "      <td>ACTO SEXUAL VIOLENTO</td>\n",
              "      <td>335</td>\n",
              "    </tr>\n",
              "    <tr>\n",
              "      <th>10</th>\n",
              "      <td>ACTO SEXUAL VIOLENTO (CIRCUNSTANCIAS DE AGRAVA...</td>\n",
              "      <td>3</td>\n",
              "    </tr>\n",
              "    <tr>\n",
              "      <th>11</th>\n",
              "      <td>ACTOS SEXUALES CON MENOR DE 14 AÑOS</td>\n",
              "      <td>1415</td>\n",
              "    </tr>\n",
              "    <tr>\n",
              "      <th>12</th>\n",
              "      <td>ACTOS SEXUALES CON MENOR DE 14 AÑOS (CIRCUNSTA...</td>\n",
              "      <td>15</td>\n",
              "    </tr>\n",
              "    <tr>\n",
              "      <th>13</th>\n",
              "      <td>CONSTREÑIMIENTO A LA PROSTITUCIÓN</td>\n",
              "      <td>6</td>\n",
              "    </tr>\n",
              "    <tr>\n",
              "      <th>14</th>\n",
              "      <td>DELITOS SEXUALES</td>\n",
              "      <td>286</td>\n",
              "    </tr>\n",
              "    <tr>\n",
              "      <th>15</th>\n",
              "      <td>DEMANDA DE EXPLOTACION SEXUAL COMERCIAL DE PER...</td>\n",
              "      <td>4</td>\n",
              "    </tr>\n",
              "    <tr>\n",
              "      <th>16</th>\n",
              "      <td>ESTÍMULO A LA PROSTITUCIÓN DE MENORES</td>\n",
              "      <td>10</td>\n",
              "    </tr>\n",
              "    <tr>\n",
              "      <th>17</th>\n",
              "      <td>EXTORSIÓN</td>\n",
              "      <td>376</td>\n",
              "    </tr>\n",
              "    <tr>\n",
              "      <th>18</th>\n",
              "      <td>FEMINICIDIO</td>\n",
              "      <td>11</td>\n",
              "    </tr>\n",
              "    <tr>\n",
              "      <th>19</th>\n",
              "      <td>HOMICIDIO</td>\n",
              "      <td>902</td>\n",
              "    </tr>\n",
              "    <tr>\n",
              "      <th>20</th>\n",
              "      <td>HOMICIDIO CULPOSO ( EN ACCIDENTE DE TRÁNSITO)</td>\n",
              "      <td>491</td>\n",
              "    </tr>\n",
              "    <tr>\n",
              "      <th>21</th>\n",
              "      <td>HOMICIDIOS COMUNES</td>\n",
              "      <td>80</td>\n",
              "    </tr>\n",
              "    <tr>\n",
              "      <th>22</th>\n",
              "      <td>HOMICIDIOS EN A/T</td>\n",
              "      <td>25</td>\n",
              "    </tr>\n",
              "    <tr>\n",
              "      <th>23</th>\n",
              "      <td>HURTO A AUTOMOTORES</td>\n",
              "      <td>10</td>\n",
              "    </tr>\n",
              "    <tr>\n",
              "      <th>24</th>\n",
              "      <td>HURTO A COMERCIO</td>\n",
              "      <td>809</td>\n",
              "    </tr>\n",
              "    <tr>\n",
              "      <th>25</th>\n",
              "      <td>HURTO A ENTIDADES COMERCIALES</td>\n",
              "      <td>157</td>\n",
              "    </tr>\n",
              "    <tr>\n",
              "      <th>26</th>\n",
              "      <td>HURTO A MOTOCICLETAS</td>\n",
              "      <td>467</td>\n",
              "    </tr>\n",
              "    <tr>\n",
              "      <th>27</th>\n",
              "      <td>HURTO A PERSONAS</td>\n",
              "      <td>5702</td>\n",
              "    </tr>\n",
              "    <tr>\n",
              "      <th>28</th>\n",
              "      <td>HURTO A RESIDENCIAS</td>\n",
              "      <td>524</td>\n",
              "    </tr>\n",
              "    <tr>\n",
              "      <th>29</th>\n",
              "      <td>HURTO ABIGEATO</td>\n",
              "      <td>9</td>\n",
              "    </tr>\n",
              "    <tr>\n",
              "      <th>30</th>\n",
              "      <td>HURTO AUTOMOTORES</td>\n",
              "      <td>145</td>\n",
              "    </tr>\n",
              "    <tr>\n",
              "      <th>31</th>\n",
              "      <td>HURTO ENTIDADES COMERCIALES</td>\n",
              "      <td>6498</td>\n",
              "    </tr>\n",
              "    <tr>\n",
              "      <th>32</th>\n",
              "      <td>HURTO ENTIDADES FINANCIERAS</td>\n",
              "      <td>15</td>\n",
              "    </tr>\n",
              "    <tr>\n",
              "      <th>33</th>\n",
              "      <td>HURTO MOTOCICLETAS</td>\n",
              "      <td>2291</td>\n",
              "    </tr>\n",
              "    <tr>\n",
              "      <th>34</th>\n",
              "      <td>HURTO PERSONAS</td>\n",
              "      <td>30216</td>\n",
              "    </tr>\n",
              "    <tr>\n",
              "      <th>35</th>\n",
              "      <td>HURTO PIRATERÍA TERRESTRE</td>\n",
              "      <td>7</td>\n",
              "    </tr>\n",
              "    <tr>\n",
              "      <th>36</th>\n",
              "      <td>HURTO RESIDENCIAS</td>\n",
              "      <td>3317</td>\n",
              "    </tr>\n",
              "    <tr>\n",
              "      <th>37</th>\n",
              "      <td>INCAPACIDAD PARA TRABAJAR O ENFERMEDAD</td>\n",
              "      <td>1</td>\n",
              "    </tr>\n",
              "    <tr>\n",
              "      <th>38</th>\n",
              "      <td>INDUCCIÓN A LA PROSTITUCIÓN</td>\n",
              "      <td>31</td>\n",
              "    </tr>\n",
              "    <tr>\n",
              "      <th>39</th>\n",
              "      <td>LESIONES AL FETO</td>\n",
              "      <td>4</td>\n",
              "    </tr>\n",
              "    <tr>\n",
              "      <th>40</th>\n",
              "      <td>LESIONES CULPOSAS</td>\n",
              "      <td>27</td>\n",
              "    </tr>\n",
              "    <tr>\n",
              "      <th>41</th>\n",
              "      <td>LESIONES CULPOSAS ( EN ACCIDENTE DE TRANSITO )</td>\n",
              "      <td>19364</td>\n",
              "    </tr>\n",
              "    <tr>\n",
              "      <th>42</th>\n",
              "      <td>LESIONES EN A/T</td>\n",
              "      <td>553</td>\n",
              "    </tr>\n",
              "    <tr>\n",
              "      <th>43</th>\n",
              "      <td>LESIONES PERSONALES</td>\n",
              "      <td>20380</td>\n",
              "    </tr>\n",
              "    <tr>\n",
              "      <th>44</th>\n",
              "      <td>PORNOGRAFÍA CON MENORES</td>\n",
              "      <td>57</td>\n",
              "    </tr>\n",
              "    <tr>\n",
              "      <th>45</th>\n",
              "      <td>PROXENETISMO CON MENOR DE EDAD</td>\n",
              "      <td>5</td>\n",
              "    </tr>\n",
              "    <tr>\n",
              "      <th>46</th>\n",
              "      <td>SECUESTRO EXTORSIVO</td>\n",
              "      <td>3</td>\n",
              "    </tr>\n",
              "    <tr>\n",
              "      <th>47</th>\n",
              "      <td>SECUESTRO SIMPLE</td>\n",
              "      <td>3</td>\n",
              "    </tr>\n",
              "    <tr>\n",
              "      <th>48</th>\n",
              "      <td>UTILIZACIÓN O FACILITACIÓN DE MEDIOS DE COMUNI...</td>\n",
              "      <td>54</td>\n",
              "    </tr>\n",
              "    <tr>\n",
              "      <th>49</th>\n",
              "      <td>VIOLENCIA INTRAFAMILIAR</td>\n",
              "      <td>15486</td>\n",
              "    </tr>\n",
              "  </tbody>\n",
              "</table>\n",
              "</div>"
            ],
            "text/plain": [
              "                                             conducta  contador\n",
              "0          ACCESO CARNAL ABUSIVO CON MENOR DE 14 AÑOS       750\n",
              "1   ACCESO CARNAL ABUSIVO CON MENOR DE 14 AÑOS (CI...        17\n",
              "2   ACCESO CARNAL O ACTO SEXUAL ABUSIVO CON INCAPA...       189\n",
              "3   ACCESO CARNAL O ACTO SEXUAL ABUSIVO CON INCAPA...        67\n",
              "4   ACCESO CARNAL O ACTO SEXUAL EN PERSONA PUESTA ...       110\n",
              "5   ACCESO CARNAL O ACTO SEXUAL EN PERSONA PUESTA ...        13\n",
              "6                              ACCESO CARNAL VIOLENTO       425\n",
              "7   ACCESO CARNAL VIOLENTO (CIRCUNSTANCIAS AGRAVAC...         5\n",
              "8                                        ACOSO SEXUAL       163\n",
              "9                                ACTO SEXUAL VIOLENTO       335\n",
              "10  ACTO SEXUAL VIOLENTO (CIRCUNSTANCIAS DE AGRAVA...         3\n",
              "11                ACTOS SEXUALES CON MENOR DE 14 AÑOS      1415\n",
              "12  ACTOS SEXUALES CON MENOR DE 14 AÑOS (CIRCUNSTA...        15\n",
              "13                  CONSTREÑIMIENTO A LA PROSTITUCIÓN         6\n",
              "14                                   DELITOS SEXUALES       286\n",
              "15  DEMANDA DE EXPLOTACION SEXUAL COMERCIAL DE PER...         4\n",
              "16              ESTÍMULO A LA PROSTITUCIÓN DE MENORES        10\n",
              "17                                          EXTORSIÓN       376\n",
              "18                                        FEMINICIDIO        11\n",
              "19                                          HOMICIDIO       902\n",
              "20      HOMICIDIO CULPOSO ( EN ACCIDENTE DE TRÁNSITO)       491\n",
              "21                                 HOMICIDIOS COMUNES        80\n",
              "22                                  HOMICIDIOS EN A/T        25\n",
              "23                                HURTO A AUTOMOTORES        10\n",
              "24                                   HURTO A COMERCIO       809\n",
              "25                      HURTO A ENTIDADES COMERCIALES       157\n",
              "26                               HURTO A MOTOCICLETAS       467\n",
              "27                                   HURTO A PERSONAS      5702\n",
              "28                                HURTO A RESIDENCIAS       524\n",
              "29                                     HURTO ABIGEATO         9\n",
              "30                                  HURTO AUTOMOTORES       145\n",
              "31                        HURTO ENTIDADES COMERCIALES      6498\n",
              "32                        HURTO ENTIDADES FINANCIERAS        15\n",
              "33                                 HURTO MOTOCICLETAS      2291\n",
              "34                                     HURTO PERSONAS     30216\n",
              "35                          HURTO PIRATERÍA TERRESTRE         7\n",
              "36                                  HURTO RESIDENCIAS      3317\n",
              "37             INCAPACIDAD PARA TRABAJAR O ENFERMEDAD         1\n",
              "38                        INDUCCIÓN A LA PROSTITUCIÓN        31\n",
              "39                                   LESIONES AL FETO         4\n",
              "40                                  LESIONES CULPOSAS        27\n",
              "41     LESIONES CULPOSAS ( EN ACCIDENTE DE TRANSITO )     19364\n",
              "42                                    LESIONES EN A/T       553\n",
              "43                                LESIONES PERSONALES     20380\n",
              "44                            PORNOGRAFÍA CON MENORES        57\n",
              "45                     PROXENETISMO CON MENOR DE EDAD         5\n",
              "46                                SECUESTRO EXTORSIVO         3\n",
              "47                                   SECUESTRO SIMPLE         3\n",
              "48  UTILIZACIÓN O FACILITACIÓN DE MEDIOS DE COMUNI...        54\n",
              "49                            VIOLENCIA INTRAFAMILIAR     15486"
            ]
          },
          "metadata": {
            "tags": []
          },
          "execution_count": 114
        }
      ]
    },
    {
      "cell_type": "code",
      "metadata": {
        "id": "BsIN7MiCKyKc",
        "colab_type": "code",
        "colab": {
          "base_uri": "https://localhost:8080/",
          "height": 588
        },
        "outputId": "8e010c56-216a-406a-a21c-9782e583ad9e"
      },
      "source": [
        "n_delitos.hist()"
      ],
      "execution_count": 115,
      "outputs": [
        {
          "output_type": "execute_result",
          "data": {
            "text/plain": [
              "array([[<matplotlib.axes._subplots.AxesSubplot object at 0x7f239b36c8d0>]],\n",
              "      dtype=object)"
            ]
          },
          "metadata": {
            "tags": []
          },
          "execution_count": 115
        },
        {
          "output_type": "display_data",
          "data": {
            "image/png": "[encoded data removed]",
            "text/plain": [
              "<Figure size 1152x648 with 1 Axes>"
            ]
          },
          "metadata": {
            "tags": []
          }
        }
      ]
    },
    {
      "cell_type": "code",
      "metadata": {
        "id": "6TiWwW438fbK",
        "colab_type": "code",
        "colab": {
          "base_uri": "https://localhost:8080/",
          "height": 51
        },
        "outputId": "6db7f970-df14-4a2a-fe4f-0f1b5645f937"
      },
      "source": [
        "df_n = df['ZONA']\n",
        "np_df = np.array(df['ZONA'].unique())\n",
        "\n",
        "len(np_df)\n",
        "np_df\n",
        "np_count= np.unique(df_n,return_counts=True)\n",
        "np_count"
      ],
      "execution_count": 117,
      "outputs": [
        {
          "output_type": "execute_result",
          "data": {
            "text/plain": [
              "(array(['OTROS', 'RURAL', 'URBANA'], dtype=object),\n",
              " array([    83,   1001, 110749]))"
            ]
          },
          "metadata": {
            "tags": []
          },
          "execution_count": 117
        }
      ]
    },
    {
      "cell_type": "code",
      "metadata": {
        "id": "toFdsvPMuh5n",
        "colab_type": "code",
        "colab": {
          "base_uri": "https://localhost:8080/",
          "height": 142
        },
        "outputId": "057663fd-4d9c-414f-c320-940984d2dbe9"
      },
      "source": [
        "\n",
        "n_delitos = pd.DataFrame({'conducta':np_count[0],'contador':np_count[1]})\n",
        "n_delitos\n"
      ],
      "execution_count": 118,
      "outputs": [
        {
          "output_type": "execute_result",
          "data": {
            "text/html": [
              "<div>\n",
              "<style scoped>\n",
              "    .dataframe tbody tr th:only-of-type {\n",
              "        vertical-align: middle;\n",
              "    }\n",
              "\n",
              "    .dataframe tbody tr th {\n",
              "        vertical-align: top;\n",
              "    }\n",
              "\n",
              "    .dataframe thead th {\n",
              "        text-align: right;\n",
              "    }\n",
              "</style>\n",
              "<table border=\"1\" class=\"dataframe\">\n",
              "  <thead>\n",
              "    <tr style=\"text-align: right;\">\n",
              "      <th></th>\n",
              "      <th>conducta</th>\n",
              "      <th>contador</th>\n",
              "    </tr>\n",
              "  </thead>\n",
              "  <tbody>\n",
              "    <tr>\n",
              "      <th>0</th>\n",
              "      <td>OTROS</td>\n",
              "      <td>83</td>\n",
              "    </tr>\n",
              "    <tr>\n",
              "      <th>1</th>\n",
              "      <td>RURAL</td>\n",
              "      <td>1001</td>\n",
              "    </tr>\n",
              "    <tr>\n",
              "      <th>2</th>\n",
              "      <td>URBANA</td>\n",
              "      <td>110749</td>\n",
              "    </tr>\n",
              "  </tbody>\n",
              "</table>\n",
              "</div>"
            ],
            "text/plain": [
              "  conducta  contador\n",
              "0    OTROS        83\n",
              "1    RURAL      1001\n",
              "2   URBANA    110749"
            ]
          },
          "metadata": {
            "tags": []
          },
          "execution_count": 118
        }
      ]
    },
    {
      "cell_type": "code",
      "metadata": {
        "id": "L_wImLvc2Zer",
        "colab_type": "code",
        "colab": {}
      },
      "source": [
        ""
      ],
      "execution_count": 0,
      "outputs": []
    }
  ]
}